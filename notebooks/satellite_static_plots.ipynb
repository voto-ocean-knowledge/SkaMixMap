{
 "cells": [
  {
   "cell_type": "code",
   "execution_count": null,
   "id": "97370dbd-bb9f-4acf-8df5-6d9f6865de66",
   "metadata": {},
   "outputs": [],
   "source": [
    "import copernicusmarine\n",
    "from pathlib import Path\n",
    "import xarray as xr\n",
    "import sys\n",
    "import os\n",
    "import datetime\n",
    "import matplotlib.pyplot as plt\n",
    "current_dir = os.getcwd()\n",
    "src_path = Path(current_dir).parent / \"src\"\n",
    "sys.path.insert(0, str(src_path))\n",
    "from satellite_setup import get_satellite_settings"
   ]
  },
  {
   "cell_type": "code",
   "execution_count": null,
   "id": "c7b81092-484d-46c6-8154-d6e832d329d8",
   "metadata": {},
   "outputs": [],
   "source": [
    "satellite_dicts = get_satellite_settings()"
   ]
  },
  {
   "cell_type": "markdown",
   "id": "a4df2031-7992-4ae4-9a9f-04eee87de647",
   "metadata": {},
   "source": [
    "### Download datasets for each satellite product"
   ]
  },
  {
   "cell_type": "code",
   "execution_count": null,
   "id": "8467911e-f637-4ea1-b8f5-2029b5e95e84",
   "metadata": {},
   "outputs": [],
   "source": [
    "redownload=False\n",
    "for key, ddict in satellite_dicts.items():\n",
    "    # go through each of the satellite dicts in turn\n",
    "    wmts_str = ddict['url']\n",
    "    # get the dataset id from the WMTS url\n",
    "    parts = wmts_str.split('/')\n",
    "    dataset_id = parts[-1]\n",
    "    dataset_id_parts = dataset_id.split('_')\n",
    "    if dataset_id_parts[-1][:2] == \"20\":\n",
    "        # some kind of dataset version that has to be removed if present\n",
    "        dataset_id = \"_\".join(dataset_id_parts[:-1])\n",
    "    satellite_dicts[key]['dataset_id'] = dataset_id\n",
    "\n",
    "    matching_datasets = list(Path('.').glob(f'*{dataset_id}*.nc'))\n",
    "    if matching_datasets and not redownload:\n",
    "        satellite_dicts[key]['dataset_path'] = matching_datasets[0]\n",
    "        print(f\"dataset already downloaded: {satellite_dicts[key]['dataset_path']}\")\n",
    "        continue\n",
    "    var_name = ddict['var_name']\n",
    "    # extract the max date. Set mininum date as 10 days before this to keep downloads manageable\n",
    "    datetime_max = datetime.datetime.fromisoformat(ddict['datetime_max'])\n",
    "    datetime_min = datetime_max - datetime.timedelta(days=10)\n",
    "    # request an area around the SkaMix project area\n",
    "    response = copernicusmarine.subset(\n",
    "      dataset_id=dataset_id,\n",
    "      start_datetime=datetime_min,\n",
    "      end_datetime=datetime_max,\n",
    "      minimum_longitude=8,\n",
    "      maximum_longitude=14,\n",
    "      minimum_latitude=55,\n",
    "      maximum_latitude=60,\n",
    "      maximum_depth=5\n",
    "    )\n",
    "    # add the path of downloaded data to the satellite dict\n",
    "    satellite_dicts[key]['dataset_path'] = response.file_path"
   ]
  },
  {
   "cell_type": "markdown",
   "id": "9eddb9e2-5ed8-4491-80db-108b2c7db73e",
   "metadata": {},
   "source": [
    "### Make some plots"
   ]
  },
  {
   "cell_type": "code",
   "execution_count": null,
   "id": "8a1c9921-bfa6-435c-bd18-2228bba4260c",
   "metadata": {},
   "outputs": [],
   "source": [
    "for key, ddict in satellite_dicts.items():\n",
    "    ds = xr.open_dataset(ddict['dataset_path'])\n",
    "    var_name = ddict['var_name']\n",
    "    fig, ax = plt.subplots(figsize=(10, 8))\n",
    "    ds_sub  = ds.sel(time=ds.time.max())\n",
    "    if 'depth' in ds_sub.dims:\n",
    "        ds_sub = ds_sub.sel(depth=ds_sub.depth.min())\n",
    "    ds_sub[var_name].plot(ax=ax)\n",
    "    x = 9.25 if 'forecast' in key else 8.25\n",
    "    ax.text(x, 59.5, f\"{key}: {ddict['dataset_id']}\", backgroundcolor='lightgray')"
   ]
  }
 ],
 "metadata": {
  "kernelspec": {
   "display_name": "Python 3 (ipykernel)",
   "language": "python",
   "name": "python3"
  },
  "language_info": {
   "codemirror_mode": {
    "name": "ipython",
    "version": 3
   },
   "file_extension": ".py",
   "mimetype": "text/x-python",
   "name": "python",
   "nbconvert_exporter": "python",
   "pygments_lexer": "ipython3",
   "version": "3.13.5"
  }
 },
 "nbformat": 4,
 "nbformat_minor": 5
}
